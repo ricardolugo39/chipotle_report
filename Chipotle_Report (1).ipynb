{
 "cells": [
  {
   "cell_type": "code",
   "execution_count": 4,
   "metadata": {},
   "outputs": [],
   "source": [
    "import pandas as pd"
   ]
  },
  {
   "cell_type": "code",
   "execution_count": 5,
   "metadata": {},
   "outputs": [],
   "source": [
    "#import files\n",
    "tmc_r = pd.read_excel('TMC_Report.xlsx')\n",
    "os_r = pd.read_excel('OS_Report.xls')\n",
    "tmc_id = pd.read_excel('TMC_ID.xlsx')\n",
    "os_id = pd.read_excel('OS_ID.xlsx')"
   ]
  },
  {
   "cell_type": "code",
   "execution_count": 7,
   "metadata": {},
   "outputs": [],
   "source": [
    "os_r['Origin'] = os_r['Origin'].str.strip()\n",
    "\n",
    "#Oversight - count trips by origin location\n",
    "os_origin_trip_count = os_r.groupby('Origin').agg('Global Device ID').count()\n",
    "os_origin_trip_count= pd.DataFrame(os_origin_trip_count).sort_values(by='Global Device ID', ascending=False)\n",
    "\n",
    "#Merge Oversight report with Oversight ID locations\n",
    "os_table_id_trips = pd.merge(os_origin_trip_count, \n",
    "                      os_id, \n",
    "                      on ='Origin', \n",
    "                      how ='outer')\n"
   ]
  },
  {
   "cell_type": "code",
   "execution_count": 8,
   "metadata": {},
   "outputs": [],
   "source": [
    "tmc_r = tmc_r[tmc_r['Equipment Type'] == 'Reefer']"
   ]
  },
  {
   "cell_type": "code",
   "execution_count": 10,
   "metadata": {},
   "outputs": [],
   "source": [
    "#TMC - count trips by location ID\n",
    "tmc_origin_trip_count = tmc_r.groupby('Origin Pickup Customer Location ID').agg('CHR Number').count()\n",
    "tmc_origin_trip_count= pd.DataFrame(tmc_origin_trip_count).sort_values(by='CHR Number', ascending=False)\n",
    "tmc_origin_trip_count.reset_index(inplace=True)\n",
    "\n",
    "#Merge TMC report with TMC ID locations\n",
    "tmc_table_id_trips = pd.merge(tmc_origin_trip_count, \n",
    "                      tmc_id, \n",
    "                      on ='Origin Pickup Customer Location ID', \n",
    "                      how ='outer')"
   ]
  },
  {
   "cell_type": "code",
   "execution_count": 11,
   "metadata": {},
   "outputs": [],
   "source": [
    "#Columns rename for merging\n",
    "tmc_table_id_trips = tmc_table_id_trips.rename(columns={'Origin Pickup Customer Location ID': 'Origin_ID'})\n",
    "os_table_id_trips = os_table_id_trips.rename(columns={'OS ID map': 'Origin_ID'})"
   ]
  },
  {
   "cell_type": "code",
   "execution_count": 12,
   "metadata": {},
   "outputs": [],
   "source": [
    "#Merge oversigt and TMC data based on Origin_ID (TMC table)\n",
    "master = pd.merge(tmc_table_id_trips, \n",
    "                      os_table_id_trips, \n",
    "                      on ='Origin_ID', \n",
    "                      how ='outer')\n",
    "master.drop_duplicates(subset=['Origin_ID'], inplace=True)"
   ]
  },
  {
   "cell_type": "code",
   "execution_count": 14,
   "metadata": {},
   "outputs": [],
   "source": [
    "#Add compliance calculation - # of OS trips / # of TMC trips\n",
    "master['Compliance Shipments'] = master['Global Device ID'] / master['CHR Number']\n",
    "master.set_index('Origin_ID', inplace=True)"
   ]
  },
  {
   "cell_type": "code",
   "execution_count": 15,
   "metadata": {},
   "outputs": [],
   "source": [
    "#master.to_excel('report_by_ids.xlsx')"
   ]
  },
  {
   "cell_type": "markdown",
   "metadata": {},
   "source": [
    "# Groupby by names"
   ]
  },
  {
   "cell_type": "code",
   "execution_count": 16,
   "metadata": {},
   "outputs": [],
   "source": [
    "#Example # 2\n",
    "\n",
    "merge_names = master"
   ]
  },
  {
   "cell_type": "code",
   "execution_count": 17,
   "metadata": {},
   "outputs": [],
   "source": [
    "merge_names.reset_index(inplace=True)\n",
    "add_names = merge_names.groupby('Supplier').agg({'CHR Number':'sum', \n",
    "                         'Global Device ID':'sum'})\n",
    "add_names.reset_index(inplace=True)\n"
   ]
  },
  {
   "cell_type": "code",
   "execution_count": 18,
   "metadata": {},
   "outputs": [],
   "source": [
    "final = add_names.sort_values(by='CHR Number', ascending=False)\n",
    "final['Compliance'] = final['Global Device ID'] / final['CHR Number']\n",
    "final.to_excel('report_by_name.xlsx')"
   ]
  },
  {
   "cell_type": "code",
   "execution_count": 19,
   "metadata": {},
   "outputs": [],
   "source": [
    "add_names = merge_names.groupby(['Origin','Supplier']).agg({'CHR Number':'sum', \n",
    "                         'Global Device ID':'sum'})\n",
    "add_names.reset_index(inplace=True)"
   ]
  },
  {
   "cell_type": "markdown",
   "metadata": {},
   "source": [
    "# List of origins w/ out IDs and new origins"
   ]
  },
  {
   "cell_type": "code",
   "execution_count": 20,
   "metadata": {},
   "outputs": [],
   "source": [
    "list_origin = os_r['Origin']\n",
    "#list_origin = os_r.drop_duplicates"
   ]
  },
  {
   "cell_type": "code",
   "execution_count": 21,
   "metadata": {},
   "outputs": [],
   "source": [
    "df = pd.DataFrame(list_origin.drop_duplicates())"
   ]
  },
  {
   "cell_type": "code",
   "execution_count": 22,
   "metadata": {},
   "outputs": [],
   "source": [
    "df['source'] = 'Monthly Report'"
   ]
  },
  {
   "cell_type": "code",
   "execution_count": 23,
   "metadata": {},
   "outputs": [],
   "source": [
    "os_id['Source 2'] = 'Id Report'"
   ]
  },
  {
   "cell_type": "code",
   "execution_count": 24,
   "metadata": {},
   "outputs": [],
   "source": [
    "origin_missing = pd.merge(os_id, \n",
    "                      df, \n",
    "                      on ='Origin', \n",
    "                      how ='outer')"
   ]
  },
  {
   "cell_type": "code",
   "execution_count": 25,
   "metadata": {},
   "outputs": [],
   "source": [
    "origin_missing.drop_duplicates(inplace=True)"
   ]
  },
  {
   "cell_type": "code",
   "execution_count": 26,
   "metadata": {},
   "outputs": [],
   "source": [
    "origin_not_listed = origin_missing[(origin_missing['OS ID map'].isnull())]"
   ]
  },
  {
   "cell_type": "code",
   "execution_count": 27,
   "metadata": {},
   "outputs": [
    {
     "name": "stderr",
     "output_type": "stream",
     "text": [
      "C:\\Users\\ricardo.lugo\\Anaconda3\\lib\\site-packages\\pandas\\core\\frame.py:4163: SettingWithCopyWarning: \n",
      "A value is trying to be set on a copy of a slice from a DataFrame\n",
      "\n",
      "See the caveats in the documentation: https://pandas.pydata.org/pandas-docs/stable/user_guide/indexing.html#returning-a-view-versus-a-copy\n",
      "  return super().drop(\n"
     ]
    }
   ],
   "source": [
    "origin_not_listed.drop(['source', 'Source 2'], axis=1, inplace= True)\n",
    "os_id.drop(['Source 2'], axis=1, inplace=True)"
   ]
  },
  {
   "cell_type": "code",
   "execution_count": 28,
   "metadata": {},
   "outputs": [],
   "source": [
    "#origin_not_listed.to_excel('origin_to_be_added.xlsx')"
   ]
  },
  {
   "cell_type": "code",
   "execution_count": 29,
   "metadata": {},
   "outputs": [],
   "source": [
    "os_id = os_id.append(origin_not_listed, ignore_index=True)\n",
    "os_id.drop_duplicates(subset=['Origin'], inplace=True)"
   ]
  },
  {
   "cell_type": "code",
   "execution_count": 30,
   "metadata": {},
   "outputs": [],
   "source": [
    "os_id.set_index('Origin', inplace=True)"
   ]
  },
  {
   "cell_type": "code",
   "execution_count": 31,
   "metadata": {},
   "outputs": [],
   "source": [
    "os_id.to_excel('OS_ID.xlsx')"
   ]
  },
  {
   "cell_type": "code",
   "execution_count": null,
   "metadata": {},
   "outputs": [],
   "source": []
  }
 ],
 "metadata": {
  "interpreter": {
   "hash": "920cdd60095820ab23e38cec50450a121074cc1fb56da8acebf5c87cba656e86"
  },
  "kernelspec": {
   "display_name": "Python 3",
   "language": "python",
   "name": "python3"
  },
  "language_info": {
   "codemirror_mode": {
    "name": "ipython",
    "version": 3
   },
   "file_extension": ".py",
   "mimetype": "text/x-python",
   "name": "python",
   "nbconvert_exporter": "python",
   "pygments_lexer": "ipython3",
   "version": "3.8.5"
  }
 },
 "nbformat": 4,
 "nbformat_minor": 4
}
